{
 "cells": [
  {
   "cell_type": "code",
   "execution_count": null,
   "id": "initial_id",
   "metadata": {
    "collapsed": true
   },
   "outputs": [],
   "source": []
  },
  {
   "cell_type": "code",
   "outputs": [
    {
     "name": "stdout",
     "output_type": "stream",
     "text": [
      "Label: dami, Number of samples: 4\n",
      "Label: hyunbin, Number of samples: 4\n",
      "Label: rose, Number of samples: 4\n",
      "Label: IU, Number of samples: 4\n",
      "Label: JK, Number of samples: 4\n"
     ]
    }
   ],
   "source": [
    "import json\n",
    "def load_data(json_file):\n",
    "    with open(json_file, 'r') as f:\n",
    "        data = json.load(f)\n",
    "    return data\n",
    "\n",
    "def convert_data(data):\n",
    "    converted_data = {}\n",
    "    for item in data:\n",
    "        label = item['label'].split('.')[0]  # 'dami1.png' -> 'dami1'\n",
    "        label = ''.join([i for i in label if not i.isdigit()])  # 'dami1' -> 'dami'\n",
    "        if label not in converted_data:\n",
    "            converted_data[label] = []\n",
    "        converted_data[label].append(item['landmarks'])\n",
    "    return converted_data\n",
    "\n",
    "\n",
    "# JSON 파일 로드 및 데이터 변환\n",
    "raw_data = load_data('/Users/hwangjiyeong/PycharmProjects/facial reconition/face_recognition_1/landmark/landmark_datas')\n",
    "dataset = convert_data(raw_data)\n",
    "\n",
    "for label, samples in list(dataset.items())[:5]:  # 첫 5개 클래스만 출력\n",
    "    print(f'Label: {label}, Number of samples: {len(samples)}')"
   ],
   "metadata": {
    "collapsed": false,
    "ExecuteTime": {
     "end_time": "2024-01-16T21:13:36.970413Z",
     "start_time": "2024-01-16T21:13:36.946178Z"
    }
   },
   "id": "9810c67ae59d6933",
   "execution_count": 6
  },
  {
   "cell_type": "code",
   "outputs": [],
   "source": [
    "import random\n",
    "import numpy as np\n",
    "import json\n",
    "import torch\n",
    "from torch.optim import Adam\n",
    "from torch.nn import CrossEntropyLoss\n",
    "import torch.nn.functional as F\n",
    "import torch.nn as nn\n"
   ],
   "metadata": {
    "collapsed": false,
    "ExecuteTime": {
     "end_time": "2024-01-16T21:13:46.258388Z",
     "start_time": "2024-01-16T21:13:46.256105Z"
    }
   },
   "id": "c875eca3e7370177",
   "execution_count": 7
  },
  {
   "cell_type": "code",
   "outputs": [],
   "source": [
    "def create_episode(dataset, n_classes=2, n_support=2, n_query=2):\n",
    "    \"\"\"\n",
    "    dataset: 전체 데이터셋. {클래스: [샘플 리스트]} 형태의 딕셔너리여야 합니다.\n",
    "    n_classes: 한 에피소드에서 사용할 클래스의 수.\n",
    "    n_support: 각 클래스당 학습 데이터로 사용할 샘플의 수.\n",
    "    n_query: 각 클래스당 테스트에 사용할 샘플의 수.\n",
    "    \"\"\"\n",
    "    # 클래스들을 무작위로 선택\n",
    "    class_list = list(dataset.keys())\n",
    "    selected_classes = random.sample(class_list, n_classes)\n",
    "\n",
    "    support_samples = []\n",
    "    query_samples = []\n",
    "\n",
    "    for class_ in selected_classes:\n",
    "        samples = dataset[class_]\n",
    "\n",
    "        # 한 클래스 내에서 샘플들을 무작위로 선택\n",
    "        selected_samples = random.sample(samples, n_support + n_query)\n",
    "\n",
    "        support_samples.extend([(class_, sample) for sample in selected_samples[:n_support]])\n",
    "        query_samples.extend([(class_, sample) for sample in selected_samples[n_support:]])\n",
    "\n",
    "    return support_samples, query_samples\n"
   ],
   "metadata": {
    "collapsed": false,
    "ExecuteTime": {
     "end_time": "2024-01-16T21:13:58.187307Z",
     "start_time": "2024-01-16T21:13:58.183594Z"
    }
   },
   "id": "912a2d8ceb5d634a",
   "execution_count": 8
  },
  {
   "cell_type": "code",
   "outputs": [],
   "source": [
    "# 임베딩 네트워크 정의\n",
    "class EmbeddingNet(nn.Module):\n",
    "    def __init__(self):\n",
    "        super().__init__()\n",
    "        self.layers = nn.Sequential(\n",
    "            nn.Linear(2, 64),  # 각 랜드마크 좌표는 2차원입니다.\n",
    "            nn.ReLU(),\n",
    "            nn.Linear(64, 64)\n",
    "        )\n",
    "\n",
    "    def forward(self, x):\n",
    "        return self.layers(x)"
   ],
   "metadata": {
    "collapsed": false,
    "ExecuteTime": {
     "end_time": "2024-01-16T21:14:10.437169Z",
     "start_time": "2024-01-16T21:14:10.436376Z"
    }
   },
   "id": "a46816d5993ccf7a",
   "execution_count": 9
  },
  {
   "cell_type": "code",
   "outputs": [
    {
     "ename": "ValueError",
     "evalue": "too many dimensions 'str'",
     "output_type": "error",
     "traceback": [
      "\u001B[0;31m---------------------------------------------------------------------------\u001B[0m",
      "\u001B[0;31mValueError\u001B[0m                                Traceback (most recent call last)",
      "Cell \u001B[0;32mIn[10], line 19\u001B[0m\n\u001B[1;32m     17\u001B[0m \u001B[38;5;66;03m# 학습 데이터의 레이블과 특징 추출\u001B[39;00m\n\u001B[1;32m     18\u001B[0m train_labels, train_landmarks \u001B[38;5;241m=\u001B[39m \u001B[38;5;28mzip\u001B[39m(\u001B[38;5;241m*\u001B[39mtrain_samples)\n\u001B[0;32m---> 19\u001B[0m train_labels \u001B[38;5;241m=\u001B[39m \u001B[43mtorch\u001B[49m\u001B[38;5;241;43m.\u001B[39;49m\u001B[43mtensor\u001B[49m\u001B[43m(\u001B[49m\u001B[43mtrain_labels\u001B[49m\u001B[43m)\u001B[49m\n\u001B[1;32m     20\u001B[0m train_landmarks \u001B[38;5;241m=\u001B[39m torch\u001B[38;5;241m.\u001B[39mtensor(train_landmarks)\u001B[38;5;241m.\u001B[39mview(\u001B[38;5;241m-\u001B[39m\u001B[38;5;241m1\u001B[39m, \u001B[38;5;241m2\u001B[39m)  \u001B[38;5;66;03m# 각 랜드마크는 2차원입니다.\u001B[39;00m\n\u001B[1;32m     22\u001B[0m \u001B[38;5;66;03m# 테스트 데이터의 레이블과 특징 추출\u001B[39;00m\n",
      "\u001B[0;31mValueError\u001B[0m: too many dimensions 'str'"
     ]
    }
   ],
   "source": [
    "\n",
    "# 모델, 옵티마이저, 손실 함수 초기화\n",
    "model = EmbeddingNet()\n",
    "optimizer = Adam(model.parameters())\n",
    "criterion = CrossEntropyLoss()\n",
    "\n",
    "n_epochs = 50  # 전체 데이터셋에 대해 학습을 반복할 횟수\n",
    "n_episodes = 100  # 각 에포크마다 생성할 에피소드의 수\n",
    "n_classes = 2  # 한 에피소드에서 사용할 클래스의 수\n",
    "n_support = 2  # 각 클래스당 학습 데이터로 사용할 샘플의 수\n",
    "n_query = 2  # 각 클래스당 테스트에 사용할 샘플의 수\n",
    "\n",
    "for epoch in range(n_epochs):\n",
    "    epoch_loss = 0.0\n",
    "    for episode in range(n_episodes):\n",
    "        train_samples, test_samples = create_episode(dataset, n_classes, n_support, n_query)\n",
    "\n",
    "        # 학습 데이터의 레이블과 특징 추출\n",
    "        train_labels, train_landmarks = zip(*train_samples)\n",
    "        train_labels = torch.tensor(train_labels)\n",
    "        train_landmarks = torch.tensor(train_landmarks).view(-1, 2)  # 각 랜드마크는 2차원입니다.\n",
    "\n",
    "        # 테스트 데이터의 레이블과 특징 추출\n",
    "        test_labels, test_landmarks = zip(*test_samples)\n",
    "        test_labels = torch.tensor(test_labels)\n",
    "        test_landmarks = torch.tensor(test_landmarks).view(-1, 2)  # 각 랜드마크는 2차원입니다.\n",
    "\n",
    "        # 모델을 학습 모드로 설정\n",
    "        model.train()\n",
    "\n",
    "        # 역전파 단계 전에, Optimizer 객체를 사용하여 (모델의 학습 가능한 가중치인) 갱신할 변수들에 대한\n",
    "        # 모든 변화도를 0으로 만듭니다. 이는 기본적으로 .backward()를 호출할 때마다 변화도가\n",
    "        # 버퍼(buffer)에 (덮어쓰지 않고) 누적되기 때문입니다. 더 자세한 내용은 torch.autograd.backward에 대한 문서를 참조하세요.\n",
    "        optimizer.zero_grad()\n",
    "\n",
    "        # 순전파 단계: 모델에 x를 전달하여 f(x)의 출력을 계산합니다.\n",
    "        train_embeddings = model(train_landmarks)\n",
    "        test_embeddings = model(test_landmarks)\n",
    "\n",
    "        # 손실 계산\n",
    "        loss = criterion(train_embeddings, train_labels) + criterion(test_embeddings, test_labels)\n",
    "\n",
    "        # 역전파 단계: 모델의 매개변수에 대한 손실의 변화도를 계산합니다.\n",
    "        loss.backward()\n",
    "\n",
    "        # Optimizer의 step 함수를 호출하면 매개변수가 갱신됩니다.\n",
    "        optimizer.step()\n",
    "\n",
    "        epoch_loss += loss.item()\n",
    "    print(f'Epoch {epoch + 1}, Loss: {epoch_loss / n_episodes}')"
   ],
   "metadata": {
    "collapsed": false,
    "ExecuteTime": {
     "end_time": "2024-01-16T21:14:27.495624Z",
     "start_time": "2024-01-16T21:14:27.449059Z"
    }
   },
   "id": "62a31f95adb6242d",
   "execution_count": 10
  },
  {
   "cell_type": "code",
   "outputs": [],
   "source": [],
   "metadata": {
    "collapsed": false
   },
   "id": "10f94a09f6ce9928"
  }
 ],
 "metadata": {
  "kernelspec": {
   "display_name": "Python 3",
   "language": "python",
   "name": "python3"
  },
  "language_info": {
   "codemirror_mode": {
    "name": "ipython",
    "version": 2
   },
   "file_extension": ".py",
   "mimetype": "text/x-python",
   "name": "python",
   "nbconvert_exporter": "python",
   "pygments_lexer": "ipython2",
   "version": "2.7.6"
  }
 },
 "nbformat": 4,
 "nbformat_minor": 5
}
